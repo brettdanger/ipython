{
 "metadata": {
  "name": ""
 },
 "nbformat": 3,
 "nbformat_minor": 0,
 "worksheets": [
  {
   "cells": [
    {
     "cell_type": "code",
     "collapsed": false,
     "input": [
      "from pandas import *\n",
      "from pylab import *\n"
     ],
     "language": "python",
     "metadata": {},
     "outputs": [],
     "prompt_number": 1
    },
    {
     "cell_type": "markdown",
     "metadata": {},
     "source": [
      "###Read the dataset from a csv"
     ]
    },
    {
     "cell_type": "code",
     "collapsed": false,
     "input": [
      "dataset=read_csv('data/domain_naics.csv')"
     ],
     "language": "python",
     "metadata": {},
     "outputs": [],
     "prompt_number": 2
    },
    {
     "cell_type": "markdown",
     "metadata": {},
     "source": [
      "###Print out the first 4 rows"
     ]
    },
    {
     "cell_type": "code",
     "collapsed": false,
     "input": [
      "dataset.head()"
     ],
     "language": "python",
     "metadata": {},
     "outputs": [
      {
       "html": [
        "<div style=\"max-height:1000px;max-width:1500px;overflow:auto;\">\n",
        "<table border=\"1\" class=\"dataframe\">\n",
        "  <thead>\n",
        "    <tr style=\"text-align: right;\">\n",
        "      <th></th>\n",
        "      <th>company_name</th>\n",
        "      <th> id</th>\n",
        "      <th> domain</th>\n",
        "      <th> naics</th>\n",
        "    </tr>\n",
        "  </thead>\n",
        "  <tbody>\n",
        "    <tr>\n",
        "      <th>0</th>\n",
        "      <td>        CA, Inc.</td>\n",
        "      <td>  5435c69ed3bcc5b2e4d580e393e373d3</td>\n",
        "      <td>               'ca.com'</td>\n",
        "      <td>  511210</td>\n",
        "    </tr>\n",
        "    <tr>\n",
        "      <th>1</th>\n",
        "      <td>  VeriSign, Inc.</td>\n",
        "      <td>  4d2fc9afd378a62f17bb371f756f000e</td>\n",
        "      <td>   0-0-0-webhosting.com</td>\n",
        "      <td>  518210</td>\n",
        "    </tr>\n",
        "    <tr>\n",
        "      <th>2</th>\n",
        "      <td> NEC Corporation</td>\n",
        "      <td>  0490b305539f9a2d4fb47a454c3a0dda</td>\n",
        "      <td>         001.jp.nec.com</td>\n",
        "      <td>  334111</td>\n",
        "    </tr>\n",
        "    <tr>\n",
        "      <th>3</th>\n",
        "      <td>   Telefonica SA</td>\n",
        "      <td>  9817db4287c6c2399054e82908b96852</td>\n",
        "      <td>  0011.e.telefonica.net</td>\n",
        "      <td>  524128</td>\n",
        "    </tr>\n",
        "    <tr>\n",
        "      <th>4</th>\n",
        "      <td>   Telefonica SA</td>\n",
        "      <td>  9817db4287c6c2399054e82908b96852</td>\n",
        "      <td>  0030.e.telefonica.net</td>\n",
        "      <td>  524128</td>\n",
        "    </tr>\n",
        "  </tbody>\n",
        "</table>\n",
        "<p>5 rows \u00d7 4 columns</p>\n",
        "</div>"
       ],
       "metadata": {},
       "output_type": "pyout",
       "prompt_number": 3,
       "text": [
        "      company_name                                 id                  domain  \\\n",
        "0         CA, Inc.   5435c69ed3bcc5b2e4d580e393e373d3                'ca.com'   \n",
        "1   VeriSign, Inc.   4d2fc9afd378a62f17bb371f756f000e    0-0-0-webhosting.com   \n",
        "2  NEC Corporation   0490b305539f9a2d4fb47a454c3a0dda          001.jp.nec.com   \n",
        "3    Telefonica SA   9817db4287c6c2399054e82908b96852   0011.e.telefonica.net   \n",
        "4    Telefonica SA   9817db4287c6c2399054e82908b96852   0030.e.telefonica.net   \n",
        "\n",
        "     naics  \n",
        "0   511210  \n",
        "1   518210  \n",
        "2   334111  \n",
        "3   524128  \n",
        "4   524128  \n",
        "\n",
        "[5 rows x 4 columns]"
       ]
      }
     ],
     "prompt_number": 3
    },
    {
     "cell_type": "markdown",
     "metadata": {},
     "source": [
      "###Slicing Data by row and colums"
     ]
    },
    {
     "cell_type": "code",
     "collapsed": false,
     "input": [
      "#show rows 4-6\n",
      "dataset[4:6]"
     ],
     "language": "python",
     "metadata": {},
     "outputs": [
      {
       "html": [
        "<div style=\"max-height:1000px;max-width:1500px;overflow:auto;\">\n",
        "<table border=\"1\" class=\"dataframe\">\n",
        "  <thead>\n",
        "    <tr style=\"text-align: right;\">\n",
        "      <th></th>\n",
        "      <th>company_name</th>\n",
        "      <th> id</th>\n",
        "      <th> domain</th>\n",
        "      <th> naics</th>\n",
        "    </tr>\n",
        "  </thead>\n",
        "  <tbody>\n",
        "    <tr>\n",
        "      <th>4</th>\n",
        "      <td> Telefonica SA</td>\n",
        "      <td>  9817db4287c6c2399054e82908b96852</td>\n",
        "      <td>       0030.e.telefonica.net</td>\n",
        "      <td>  524128</td>\n",
        "    </tr>\n",
        "    <tr>\n",
        "      <th>5</th>\n",
        "      <td>       Warnaco</td>\n",
        "      <td>  32a003abbdbde139d0a0fd457cb8e92c</td>\n",
        "      <td>  0172d0.capitalistco-op.com</td>\n",
        "      <td>  315240</td>\n",
        "    </tr>\n",
        "  </tbody>\n",
        "</table>\n",
        "<p>2 rows \u00d7 4 columns</p>\n",
        "</div>"
       ],
       "metadata": {},
       "output_type": "pyout",
       "prompt_number": 4,
       "text": [
        "    company_name                                 id  \\\n",
        "4  Telefonica SA   9817db4287c6c2399054e82908b96852   \n",
        "5        Warnaco   32a003abbdbde139d0a0fd457cb8e92c   \n",
        "\n",
        "                        domain    naics  \n",
        "4        0030.e.telefonica.net   524128  \n",
        "5   0172d0.capitalistco-op.com   315240  \n",
        "\n",
        "[2 rows x 4 columns]"
       ]
      }
     ],
     "prompt_number": 4
    },
    {
     "cell_type": "code",
     "collapsed": false,
     "input": [
      "#show rows 100-105 and only company_name and domain column\n",
      "dataset.ix[200:220, ['company_name', ' domain', ' naics']]"
     ],
     "language": "python",
     "metadata": {},
     "outputs": [
      {
       "html": [
        "<div style=\"max-height:1000px;max-width:1500px;overflow:auto;\">\n",
        "<table border=\"1\" class=\"dataframe\">\n",
        "  <thead>\n",
        "    <tr style=\"text-align: right;\">\n",
        "      <th></th>\n",
        "      <th>company_name</th>\n",
        "      <th> domain</th>\n",
        "      <th> naics</th>\n",
        "    </tr>\n",
        "  </thead>\n",
        "  <tbody>\n",
        "    <tr>\n",
        "      <th>200</th>\n",
        "      <td>                                         Zimmerman</td>\n",
        "      <td>                                    access.cnn.com</td>\n",
        "      <td>  541611</td>\n",
        "    </tr>\n",
        "    <tr>\n",
        "      <th>201</th>\n",
        "      <td>                              Worlds Foremost Bank</td>\n",
        "      <td>                                    access.cnn.com</td>\n",
        "      <td>  522320</td>\n",
        "    </tr>\n",
        "    <tr>\n",
        "      <th>202</th>\n",
        "      <td>                                              MTVN</td>\n",
        "      <td>                                 access.tvland.com</td>\n",
        "      <td>  611620</td>\n",
        "    </tr>\n",
        "    <tr>\n",
        "      <th>203</th>\n",
        "      <td>                                               VH1</td>\n",
        "      <td>                                 access.tvland.com</td>\n",
        "      <td>  515210</td>\n",
        "    </tr>\n",
        "    <tr>\n",
        "      <th>204</th>\n",
        "      <td>                         Spike Cable Networks Inc.</td>\n",
        "      <td>                                 access.tvland.com</td>\n",
        "      <td>  515210</td>\n",
        "    </tr>\n",
        "    <tr>\n",
        "      <th>205</th>\n",
        "      <td>                                   EarthLink, Inc.</td>\n",
        "      <td>                                   access4less.net</td>\n",
        "      <td>  517919</td>\n",
        "    </tr>\n",
        "    <tr>\n",
        "      <th>206</th>\n",
        "      <td>            Primus Telecommunications Canada, Inc.</td>\n",
        "      <td>                                     accglobal.net</td>\n",
        "      <td>  517911</td>\n",
        "    </tr>\n",
        "    <tr>\n",
        "      <th>207</th>\n",
        "      <td>                                          Accor SA</td>\n",
        "      <td>                                         accor.com</td>\n",
        "      <td>  721110</td>\n",
        "    </tr>\n",
        "    <tr>\n",
        "      <th>208</th>\n",
        "      <td>                                               Moo</td>\n",
        "      <td>  account-based-marketing-best-practices-from-t...</td>\n",
        "      <td>  722511</td>\n",
        "    </tr>\n",
        "    <tr>\n",
        "      <th>209</th>\n",
        "      <td>                                      PayPal, Inc.</td>\n",
        "      <td>                                account-paypal.com</td>\n",
        "      <td>  522320</td>\n",
        "    </tr>\n",
        "    <tr>\n",
        "      <th>210</th>\n",
        "      <td>                                         aQuantive</td>\n",
        "      <td>                      account.manage.microsoft.com</td>\n",
        "      <td>  511210</td>\n",
        "    </tr>\n",
        "    <tr>\n",
        "      <th>211</th>\n",
        "      <td> Microsoft; Forefront (Exchange Online, pka Fro...</td>\n",
        "      <td>                      account.manage.microsoft.com</td>\n",
        "      <td>  511210</td>\n",
        "    </tr>\n",
        "    <tr>\n",
        "      <th>212</th>\n",
        "      <td>                                            Eorezo</td>\n",
        "      <td>                      account.manage.microsoft.com</td>\n",
        "      <td>  541512</td>\n",
        "    </tr>\n",
        "    <tr>\n",
        "      <th>213</th>\n",
        "      <td>                   Microsoft; Windows Live Hotmail</td>\n",
        "      <td>                      account.manage.microsoft.com</td>\n",
        "      <td>  511210</td>\n",
        "    </tr>\n",
        "    <tr>\n",
        "      <th>214</th>\n",
        "      <td>                             Campaign Optimization</td>\n",
        "      <td>                      account.manage.microsoft.com</td>\n",
        "      <td>  511210</td>\n",
        "    </tr>\n",
        "    <tr>\n",
        "      <th>215</th>\n",
        "      <td>                                 Junk Email Filter</td>\n",
        "      <td>                      account.manage.microsoft.com</td>\n",
        "      <td>  333999</td>\n",
        "    </tr>\n",
        "    <tr>\n",
        "      <th>216</th>\n",
        "      <td>                                         aQuantive</td>\n",
        "      <td>                             account.microsoft.com</td>\n",
        "      <td>  511210</td>\n",
        "    </tr>\n",
        "    <tr>\n",
        "      <th>217</th>\n",
        "      <td>                                         protected</td>\n",
        "      <td>                             account.microsoft.com</td>\n",
        "      <td>  541690</td>\n",
        "    </tr>\n",
        "    <tr>\n",
        "      <th>218</th>\n",
        "      <td> Microsoft; Forefront (Exchange Online, pka Fro...</td>\n",
        "      <td>                             account.microsoft.com</td>\n",
        "      <td>  511210</td>\n",
        "    </tr>\n",
        "    <tr>\n",
        "      <th>219</th>\n",
        "      <td>                                      Personal Use</td>\n",
        "      <td>                             account.microsoft.com</td>\n",
        "      <td>  561990</td>\n",
        "    </tr>\n",
        "    <tr>\n",
        "      <th>220</th>\n",
        "      <td>                                            Eorezo</td>\n",
        "      <td>                             account.microsoft.com</td>\n",
        "      <td>  541512</td>\n",
        "    </tr>\n",
        "  </tbody>\n",
        "</table>\n",
        "<p>21 rows \u00d7 3 columns</p>\n",
        "</div>"
       ],
       "metadata": {},
       "output_type": "pyout",
       "prompt_number": 5,
       "text": [
        "                                          company_name  \\\n",
        "200                                          Zimmerman   \n",
        "201                               Worlds Foremost Bank   \n",
        "202                                               MTVN   \n",
        "203                                                VH1   \n",
        "204                          Spike Cable Networks Inc.   \n",
        "205                                    EarthLink, Inc.   \n",
        "206             Primus Telecommunications Canada, Inc.   \n",
        "207                                           Accor SA   \n",
        "208                                                Moo   \n",
        "209                                       PayPal, Inc.   \n",
        "210                                          aQuantive   \n",
        "211  Microsoft; Forefront (Exchange Online, pka Fro...   \n",
        "212                                             Eorezo   \n",
        "213                    Microsoft; Windows Live Hotmail   \n",
        "214                              Campaign Optimization   \n",
        "215                                  Junk Email Filter   \n",
        "216                                          aQuantive   \n",
        "217                                          protected   \n",
        "218  Microsoft; Forefront (Exchange Online, pka Fro...   \n",
        "219                                       Personal Use   \n",
        "220                                             Eorezo   \n",
        "\n",
        "                                                domain    naics  \n",
        "200                                     access.cnn.com   541611  \n",
        "201                                     access.cnn.com   522320  \n",
        "202                                  access.tvland.com   611620  \n",
        "203                                  access.tvland.com   515210  \n",
        "204                                  access.tvland.com   515210  \n",
        "205                                    access4less.net   517919  \n",
        "206                                      accglobal.net   517911  \n",
        "207                                          accor.com   721110  \n",
        "208   account-based-marketing-best-practices-from-t...   722511  \n",
        "209                                 account-paypal.com   522320  \n",
        "210                       account.manage.microsoft.com   511210  \n",
        "211                       account.manage.microsoft.com   511210  \n",
        "212                       account.manage.microsoft.com   541512  \n",
        "213                       account.manage.microsoft.com   511210  \n",
        "214                       account.manage.microsoft.com   511210  \n",
        "215                       account.manage.microsoft.com   333999  \n",
        "216                              account.microsoft.com   511210  \n",
        "217                              account.microsoft.com   541690  \n",
        "218                              account.microsoft.com   511210  \n",
        "219                              account.microsoft.com   561990  \n",
        "220                              account.microsoft.com   541512  \n",
        "\n",
        "[21 rows x 3 columns]"
       ]
      }
     ],
     "prompt_number": 5
    },
    {
     "cell_type": "markdown",
     "metadata": {},
     "source": [
      "###Create a smaller dataset from larger one"
     ]
    },
    {
     "cell_type": "code",
     "collapsed": true,
     "input": [
      "naics_511210 = dataset[dataset[' naics']==' 511210']\n",
      "naics_511210.head()"
     ],
     "language": "python",
     "metadata": {},
     "outputs": [
      {
       "html": [
        "<div style=\"max-height:1000px;max-width:1500px;overflow:auto;\">\n",
        "<table border=\"1\" class=\"dataframe\">\n",
        "  <thead>\n",
        "    <tr style=\"text-align: right;\">\n",
        "      <th></th>\n",
        "      <th>company_name</th>\n",
        "      <th> id</th>\n",
        "      <th> domain</th>\n",
        "      <th> naics</th>\n",
        "    </tr>\n",
        "  </thead>\n",
        "  <tbody>\n",
        "    <tr>\n",
        "      <th>0  </th>\n",
        "      <td>                        CA, Inc.</td>\n",
        "      <td>  5435c69ed3bcc5b2e4d580e393e373d3</td>\n",
        "      <td>                      'ca.com'</td>\n",
        "      <td>  511210</td>\n",
        "    </tr>\n",
        "    <tr>\n",
        "      <th>68 </th>\n",
        "      <td>          Rand North America Inc</td>\n",
        "      <td>  a3c967dd916f98f6344a15be2d9f48c6</td>\n",
        "      <td>                       3ds.com</td>\n",
        "      <td>  511210</td>\n",
        "    </tr>\n",
        "    <tr>\n",
        "      <th>87 </th>\n",
        "      <td> Microsoft; Windows Live Hotmail</td>\n",
        "      <td>  62532c5ac0455d26a93aa79f8b9f7a1d</td>\n",
        "      <td>                   86-live.com</td>\n",
        "      <td>  511210</td>\n",
        "    </tr>\n",
        "    <tr>\n",
        "      <th>192</th>\n",
        "      <td>                  Autodesk, Inc.</td>\n",
        "      <td>  a10362ede5ed8ed5ff1191321978f12a</td>\n",
        "      <td>            acamp.autodesk.com</td>\n",
        "      <td>  511210</td>\n",
        "    </tr>\n",
        "    <tr>\n",
        "      <th>210</th>\n",
        "      <td>                       aQuantive</td>\n",
        "      <td>  1756a0a063be7410cbc70c2e39185e53</td>\n",
        "      <td>  account.manage.microsoft.com</td>\n",
        "      <td>  511210</td>\n",
        "    </tr>\n",
        "  </tbody>\n",
        "</table>\n",
        "<p>5 rows \u00d7 4 columns</p>\n",
        "</div>"
       ],
       "metadata": {},
       "output_type": "pyout",
       "prompt_number": 6,
       "text": [
        "                        company_name                                 id  \\\n",
        "0                           CA, Inc.   5435c69ed3bcc5b2e4d580e393e373d3   \n",
        "68            Rand North America Inc   a3c967dd916f98f6344a15be2d9f48c6   \n",
        "87   Microsoft; Windows Live Hotmail   62532c5ac0455d26a93aa79f8b9f7a1d   \n",
        "192                   Autodesk, Inc.   a10362ede5ed8ed5ff1191321978f12a   \n",
        "210                        aQuantive   1756a0a063be7410cbc70c2e39185e53   \n",
        "\n",
        "                            domain    naics  \n",
        "0                         'ca.com'   511210  \n",
        "68                         3ds.com   511210  \n",
        "87                     86-live.com   511210  \n",
        "192             acamp.autodesk.com   511210  \n",
        "210   account.manage.microsoft.com   511210  \n",
        "\n",
        "[5 rows x 4 columns]"
       ]
      }
     ],
     "prompt_number": 6
    },
    {
     "cell_type": "code",
     "collapsed": false,
     "input": [
      "naics_511210.tail()"
     ],
     "language": "python",
     "metadata": {},
     "outputs": [
      {
       "html": [
        "<div style=\"max-height:1000px;max-width:1500px;overflow:auto;\">\n",
        "<table border=\"1\" class=\"dataframe\">\n",
        "  <thead>\n",
        "    <tr style=\"text-align: right;\">\n",
        "      <th></th>\n",
        "      <th>company_name</th>\n",
        "      <th> id</th>\n",
        "      <th> domain</th>\n",
        "      <th> naics</th>\n",
        "    </tr>\n",
        "  </thead>\n",
        "  <tbody>\n",
        "    <tr>\n",
        "      <th>17224</th>\n",
        "      <td>      Express Data</td>\n",
        "      <td>  7fae521d5ad23ec6c99abf9a1a91bdc0</td>\n",
        "      <td>         xdi.com</td>\n",
        "      <td>  511210</td>\n",
        "    </tr>\n",
        "    <tr>\n",
        "      <th>17238</th>\n",
        "      <td> Xobni Corporation</td>\n",
        "      <td>  2a99c7b27c243b37bf2548ec4f0a5e03</td>\n",
        "      <td>       xobni.com</td>\n",
        "      <td>  511210</td>\n",
        "    </tr>\n",
        "    <tr>\n",
        "      <th>17251</th>\n",
        "      <td>        Xtranormal</td>\n",
        "      <td>  5f2de19db07d84d35dd4b3d1b6ecf2f8</td>\n",
        "      <td>  xtranormal.com</td>\n",
        "      <td>  511210</td>\n",
        "    </tr>\n",
        "    <tr>\n",
        "      <th>17336</th>\n",
        "      <td>   Mediaplex, Inc.</td>\n",
        "      <td>  d6ffe6653d55ef57d9bab721c1e651ad</td>\n",
        "      <td>         z2c.net</td>\n",
        "      <td>  511210</td>\n",
        "    </tr>\n",
        "    <tr>\n",
        "      <th>17408</th>\n",
        "      <td>        Zynga Inc.</td>\n",
        "      <td>  4b54a8182974a8e185768040faea8aa3</td>\n",
        "      <td>       zynga.com</td>\n",
        "      <td>  511210</td>\n",
        "    </tr>\n",
        "  </tbody>\n",
        "</table>\n",
        "<p>5 rows \u00d7 4 columns</p>\n",
        "</div>"
       ],
       "metadata": {},
       "output_type": "pyout",
       "prompt_number": 7,
       "text": [
        "            company_name                                 id           domain  \\\n",
        "17224       Express Data   7fae521d5ad23ec6c99abf9a1a91bdc0          xdi.com   \n",
        "17238  Xobni Corporation   2a99c7b27c243b37bf2548ec4f0a5e03        xobni.com   \n",
        "17251         Xtranormal   5f2de19db07d84d35dd4b3d1b6ecf2f8   xtranormal.com   \n",
        "17336    Mediaplex, Inc.   d6ffe6653d55ef57d9bab721c1e651ad          z2c.net   \n",
        "17408         Zynga Inc.   4b54a8182974a8e185768040faea8aa3        zynga.com   \n",
        "\n",
        "         naics  \n",
        "17224   511210  \n",
        "17238   511210  \n",
        "17251   511210  \n",
        "17336   511210  \n",
        "17408   511210  \n",
        "\n",
        "[5 rows x 4 columns]"
       ]
      }
     ],
     "prompt_number": 7
    },
    {
     "cell_type": "code",
     "collapsed": false,
     "input": [
      "len(naics_511210)"
     ],
     "language": "python",
     "metadata": {},
     "outputs": [
      {
       "metadata": {},
       "output_type": "pyout",
       "prompt_number": 8,
       "text": [
        "845"
       ]
      }
     ],
     "prompt_number": 8
    },
    {
     "cell_type": "markdown",
     "metadata": {},
     "source": [
      "###Grouping"
     ]
    },
    {
     "cell_type": "code",
     "collapsed": false,
     "input": [
      "naics_group = dataset.ix[0: ,[' naics']]\n",
      "naics_group = naics_group.groupby(' naics')\n",
      "naics_group.count().tail()"
     ],
     "language": "python",
     "metadata": {},
     "outputs": [
      {
       "html": [
        "<div style=\"max-height:1000px;max-width:1500px;overflow:auto;\">\n",
        "<table border=\"1\" class=\"dataframe\">\n",
        "  <thead>\n",
        "    <tr style=\"text-align: right;\">\n",
        "      <th></th>\n",
        "      <th> naics</th>\n",
        "    </tr>\n",
        "    <tr>\n",
        "      <th> naics</th>\n",
        "      <th></th>\n",
        "    </tr>\n",
        "  </thead>\n",
        "  <tbody>\n",
        "    <tr>\n",
        "      <th> 926150</th>\n",
        "      <td>  4</td>\n",
        "    </tr>\n",
        "    <tr>\n",
        "      <th> 92811</th>\n",
        "      <td> 20</td>\n",
        "    </tr>\n",
        "    <tr>\n",
        "      <th> 928110</th>\n",
        "      <td> 16</td>\n",
        "    </tr>\n",
        "    <tr>\n",
        "      <th> 928120</th>\n",
        "      <td>  2</td>\n",
        "    </tr>\n",
        "    <tr>\n",
        "      <th> 999990</th>\n",
        "      <td> 28</td>\n",
        "    </tr>\n",
        "  </tbody>\n",
        "</table>\n",
        "<p>5 rows \u00d7 1 columns</p>\n",
        "</div>"
       ],
       "metadata": {},
       "output_type": "pyout",
       "prompt_number": 9,
       "text": [
        "          naics\n",
        " naics         \n",
        " 926150       4\n",
        " 92811       20\n",
        " 928110      16\n",
        " 928120       2\n",
        " 999990      28\n",
        "\n",
        "[5 rows x 1 columns]"
       ]
      }
     ],
     "prompt_number": 9
    },
    {
     "cell_type": "markdown",
     "metadata": {},
     "source": [
      "###Plotting group count"
     ]
    },
    {
     "cell_type": "code",
     "collapsed": false,
     "input": [
      "import matplotlib.pyplot as plt\n",
      "import numpy as np"
     ],
     "language": "python",
     "metadata": {},
     "outputs": [],
     "prompt_number": 10
    },
    {
     "cell_type": "code",
     "collapsed": false,
     "input": [
      "plot_set = naics_group.count()[' naics']"
     ],
     "language": "python",
     "metadata": {},
     "outputs": [],
     "prompt_number": 11
    },
    {
     "cell_type": "code",
     "collapsed": false,
     "input": [
      "plot_set[410:415].plot(kind='barh');"
     ],
     "language": "python",
     "metadata": {},
     "outputs": [
      {
       "metadata": {},
       "output_type": "display_data",
       "png": "[encoded data removed]",
       "text": [
        "<matplotlib.figure.Figure at 0x104e6f410>"
       ]
      }
     ],
     "prompt_number": 12
    },
    {
     "cell_type": "code",
     "collapsed": false,
     "input": [
      "plot_set.order(ascending=False).head()"
     ],
     "language": "python",
     "metadata": {},
     "outputs": [
      {
       "metadata": {},
       "output_type": "pyout",
       "prompt_number": 13,
       "text": [
        " naics\n",
        " 522110    866\n",
        " 511210    845\n",
        " 519130    419\n",
        " 511120    363\n",
        " 325611    306\n",
        "Name:  naics, dtype: int64"
       ]
      }
     ],
     "prompt_number": 13
    },
    {
     "cell_type": "code",
     "collapsed": false,
     "input": [
      "plot_set.order(ascending=False).head().plot(kind='bar')"
     ],
     "language": "python",
     "metadata": {},
     "outputs": [
      {
       "metadata": {},
       "output_type": "pyout",
       "prompt_number": 14,
       "text": [
        "<matplotlib.axes.AxesSubplot at 0x104ad3ed0>"
       ]
      },
      {
       "metadata": {},
       "output_type": "display_data",
       "png": "[encoded data removed]",
       "text": [
        "<matplotlib.figure.Figure at 0x104ad3e10>"
       ]
      }
     ],
     "prompt_number": 14
    },
    {
     "cell_type": "markdown",
     "metadata": {},
     "source": [
      "#THIS IS A HEADING"
     ]
    },
    {
     "cell_type": "markdown",
     "metadata": {},
     "source": [
      "* List\n",
      "    -  Item 1\n",
      "    -  Item 2\n"
     ]
    },
    {
     "cell_type": "code",
     "collapsed": false,
     "input": [],
     "language": "python",
     "metadata": {},
     "outputs": []
    }
   ],
   "metadata": {}
  }
 ]
}