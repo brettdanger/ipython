{
 "metadata": {
  "name": ""
 },
 "nbformat": 3,
 "nbformat_minor": 0,
 "worksheets": [
  {
   "cells": [
    {
     "cell_type": "code",
     "collapsed": false,
     "input": [
      "import pandas"
     ],
     "language": "python",
     "metadata": {},
     "outputs": [],
     "prompt_number": 1
    },
    {
     "cell_type": "code",
     "collapsed": false,
     "input": [
      "number = 0\n",
      "\n",
      "multi = 30\n",
      "\n",
      "for a in xrange(20):\n",
      "    number = multi**a\n",
      "    print number"
     ],
     "language": "python",
     "metadata": {},
     "outputs": [
      {
       "output_type": "stream",
       "stream": "stdout",
       "text": [
        "1\n",
        "30\n",
        "900\n",
        "27000\n",
        "810000\n",
        "24300000\n",
        "729000000\n",
        "21870000000\n",
        "656100000000\n",
        "19683000000000\n",
        "590490000000000\n",
        "17714700000000000\n",
        "531441000000000000\n",
        "15943230000000000000\n",
        "478296900000000000000\n",
        "14348907000000000000000\n",
        "430467210000000000000000\n",
        "12914016300000000000000000\n",
        "387420489000000000000000000\n",
        "11622614670000000000000000000\n"
       ]
      }
     ],
     "prompt_number": 3
    },
    {
     "cell_type": "markdown",
     "metadata": {},
     "source": [
      "\n"
     ]
    },
    {
     "cell_type": "code",
     "collapsed": false,
     "input": [],
     "language": "python",
     "metadata": {},
     "outputs": []
    },
    {
     "cell_type": "markdown",
     "metadata": {},
     "source": [
      "### Test Here\n",
      "[Link](http://www.brettdangerfield.com)"
     ]
    },
    {
     "cell_type": "markdown",
     "metadata": {},
     "source": [
      "Bulleted List of Awesome\n",
      "\n",
      "+Brett\n",
      "+Chase\n",
      "+Nala"
     ]
    },
    {
     "cell_type": "markdown",
     "metadata": {},
     "source": []
    }
   ],
   "metadata": {}
  }
 ]
}